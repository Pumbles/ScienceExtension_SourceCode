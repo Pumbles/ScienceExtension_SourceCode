{
 "cells": [
  {
   "cell_type": "code",
   "execution_count": 1,
   "id": "ed34083f",
   "metadata": {},
   "outputs": [],
   "source": [
    "import numpy as np\n",
    "import tensorflow as tf\n",
    "from tensorflow.keras import backend as K"
   ]
  },
  {
   "cell_type": "code",
   "execution_count": 2,
   "id": "d5f53602",
   "metadata": {},
   "outputs": [],
   "source": [
    "# intersection over union: how correct is the prediction\n",
    "def IoU(yCorr, yPred): #the correct y-label, the predicted y-label\n",
    "    def IoUfunc(yCorr, yPred):\n",
    "        # formula: A-intersect/(A-union - A-intersect)\n",
    "        intersect = (yCorr * yPred).sum()\n",
    "        union = yCorr.sum() + yPred.sum() - intersect\n",
    "        x = (intersect + 1e-15) / (union + 1e-15)\n",
    "        x = x.astype(np.float32)\n",
    "        return x\n",
    "    return tf.numpy_function(IoUfunc, [yCorr, yPred], tf.float32)\n",
    "    \n",
    "smooth = 1e-15\n",
    "def DiceCoef(yCorr, yPred):\n",
    "    # formula: 2*A-intersec/sum of image size\n",
    "    yCorr = tf.keras.layers.Flatten()(yCorr)\n",
    "    yPred = tf.keras.layers.Flatten()(yPred)\n",
    "    intersect = tf.reduce_sum(yCorr * yPred)\n",
    "    return (2. * intersect + smooth) / (tf.reduce_sum(yCorr) + tf.reduce_sum(yPred) + smooth)\n",
    "\n",
    "def DiceLoss(yCorr, yPred):\n",
    "    return 1.0 - DiceCoef(yCorr, yPred) #12.18"
   ]
  },
  {
   "cell_type": "code",
   "execution_count": null,
   "id": "db9463a8",
   "metadata": {},
   "outputs": [],
   "source": []
  }
 ],
 "metadata": {
  "kernelspec": {
   "display_name": "Python 3 (ipykernel)",
   "language": "python",
   "name": "python3"
  },
  "language_info": {
   "codemirror_mode": {
    "name": "ipython",
    "version": 3
   },
   "file_extension": ".py",
   "mimetype": "text/x-python",
   "name": "python",
   "nbconvert_exporter": "python",
   "pygments_lexer": "ipython3",
   "version": "3.8.0"
  }
 },
 "nbformat": 4,
 "nbformat_minor": 5
}
