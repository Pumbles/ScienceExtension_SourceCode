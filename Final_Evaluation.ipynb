{
 "cells": [
  {
   "cell_type": "code",
   "execution_count": 4,
   "id": "8facc7f0",
   "metadata": {},
   "outputs": [],
   "source": [
    "import os\n",
    "os.environ[\"TF_CPP_MIN_LOG_LEVEL\"] = \"2\"\n",
    "import numpy as np \n",
    "import cv2\n",
    "from glob import glob\n",
    "from tqdm import tqdm\n",
    "import tensorflow as tf\n",
    "from tensorflow.keras.utils import CustomObjectScope # to include UNET_Functions when loading weight file\n",
    "from tensorflow.keras.utils import get_custom_objects\n",
    "from sklearn.metrics import f1_score\n",
    "from UNET_Functions_IoU_DiceCoef_DiceLoss import DiceLoss, DiceCoef, IoU\n",
    "from UNET_Lung_Segmentation_Train import CreateDir, LoadData, TfDataset\n",
    "from sklearn.metrics import accuracy_score, f1_score, precision_score, recall_score\n",
    "from tensorflow.keras.callbacks import ModelCheckpoint, CSVLogger, ReduceLROnPlateau\n",
    "import pandas as pd\n",
    "\n",
    "import ipywidgets as widgets\n",
    "from IPython.display import display"
   ]
  },
  {
   "cell_type": "code",
   "execution_count": 15,
   "id": "25f2379f",
   "metadata": {},
   "outputs": [],
   "source": [
    "\"\"\"Global Parameters/Variables\"\"\"\n",
    "H = 512\n",
    "W = 512"
   ]
  },
  {
   "cell_type": "code",
   "execution_count": 16,
   "id": "fb403e72",
   "metadata": {},
   "outputs": [
    {
     "name": "stdout",
     "output_type": "stream",
     "text": [
      "60\n"
     ]
    },
    {
     "name": "stderr",
     "output_type": "stream",
     "text": [
      "100%|████████████████████████████████████████████████████████████████████████████████████| 6/6 [00:05<00:00,  1.05it/s]"
     ]
    },
    {
     "name": "stdout",
     "output_type": "stream",
     "text": [
      "Accuracy: 0.71909\n",
      "F1: 0.08668\n",
      "Recall: 0.05815\n",
      "Precision: 0.65789\n"
     ]
    },
    {
     "name": "stderr",
     "output_type": "stream",
     "text": [
      "\n"
     ]
    }
   ],
   "source": [
    "def create_dir(path):\n",
    "    if not os.path.exists(path):\n",
    "        os.makedirs(path) # creates path of none exist\n",
    "\n",
    "def read_image(path):\n",
    "    x = cv2.imread(path, cv2.IMREAD_COLOR)\n",
    "    x = cv2.resize(x, (W, H))\n",
    "    xOrg = x\n",
    "    x = x/255.0 # normalises\n",
    "    x = x.astype(np.float32) # converts images into 32-bit floats\n",
    "    x = np.expand_dims(x, axis=0) # (1, 256, 256, 3)\n",
    "    return xOrg, x\n",
    "\n",
    "def read_mask(path):\n",
    "    x = cv2.imread(path, cv2.IMREAD_GRAYSCALE)\n",
    "    x = cv2.resize(x, (W, H))\n",
    "    xOrg = x\n",
    "    x = x/255.0\n",
    "    x = x > 0.5\n",
    "    x = x.astype(np.int32)\n",
    "    return xOrg, x\n",
    "\n",
    "def save_result(xOrg, yOrg, yPred, save_path):\n",
    "    line = np.ones((H, 10, 3)) * 255 # 10px line to separate img and mask and predicted mask (segmentation result)\n",
    "\n",
    "    yOrg = np.expand_dims(yOrg, axis=-1) # increases channels from 1 to 3\n",
    "    yOrg = np.concatenate([yOrg, yOrg, yOrg], axis=-1) # (256, 256, 3)\n",
    "\n",
    "    yPred = np.expand_dims(yPred, axis=-1)\n",
    "    yPred = np.concatenate([yPred, yPred, yPred], axis=-1) * 255.0\n",
    "\n",
    "    concatImages = np.concatenate([xOrg, line, yOrg, line, yPred], axis=1) # concatenates all imgs\n",
    "    cv2.imwrite(save_path, concatImages)\n",
    "\n",
    "if __name__ == \"__main__\":\n",
    "    create_dir(\"FlippedEval_BaseTest\")\n",
    "\n",
    "    \"\"\" Load Model \"\"\"\n",
    "    with CustomObjectScope({'IoU': IoU, 'DiceCoef': DiceCoef, 'DiceLoss': DiceLoss}): # registers custom metrics\n",
    "        model = tf.keras.models.load_model(\"TrainingFilesForFlipped/model.h5\")\n",
    "\n",
    "    \"\"\" Dataset \"\"\"\n",
    "    dataset_path = r\"C:\\Users\\REDACTED NAME\\Documents\\PortModel\\DatasetsForSciExt\\DatasetNoiseUnet\"\n",
    "    (xTrain, yTrain), (xValid, yValid), (xTest, yTest) = LoadData(dataset_path)\n",
    "\n",
    "    \"\"\" Prediction and metrics values \"\"\"\n",
    "    SCORE = []\n",
    "    for x, y in tqdm(zip(xTest, yTest), total=len(xTest)): # creates progress bar\n",
    "        name = x.split(\"\\\\\")[-1]\n",
    "\n",
    "        \"\"\" Reading the image and mask \"\"\"\n",
    "        xOrg, x = read_image(x)\n",
    "        yOrg, y = read_mask(y)\n",
    "\n",
    "        \"\"\" Prediction \"\"\"\n",
    "        yPred = model.predict(x)[0] > 0.5 # if val > 0.5 then = 1, > 0.5 then = 0\n",
    "        yPred = np.squeeze(yPred, axis=-1) # converts binary mask into int vals\n",
    "        yPred = yPred.astype(np.int32) # converts binary mask into int vals\n",
    "\n",
    "        savePath = f\"FlippedEval_BaseTest/{name}\" # path in which img is saved\n",
    "        save_result(xOrg, yOrg, yPred, savePath)\n",
    "\n",
    "        \"\"\" Flattening the numpy arrays. \"\"\"\n",
    "        y = y.flatten()\n",
    "        yPred = yPred.flatten()\n",
    "\n",
    "        \"\"\" Calculating metrics values \"\"\"\n",
    "        accValue = accuracy_score(y, yPred)\n",
    "        f1Value = f1_score(y, yPred, labels=[0, 1], average=\"binary\")\n",
    "        recallValue = recall_score(y, yPred, labels=[0, 1], average=\"binary\")\n",
    "        precisionValue = precision_score(y, yPred, labels=[0, 1], average=\"binary\")\n",
    "        SCORE.append([name, accValue, f1Value, recallValue, precisionValue])\n",
    "\n",
    "    \"\"\" Metrics values \"\"\"\n",
    "    score = [s[1:]for s in SCORE]\n",
    "    score = np.mean(score, axis=0)\n",
    "    print(f\"Accuracy: {score[0]:0.5f}\")\n",
    "    print(f\"F1: {score[1]:0.5f}\")\n",
    "    print(f\"Recall: {score[2]:0.5f}\")\n",
    "    print(f\"Precision: {score[3]:0.5f}\")\n",
    "\n",
    "    \"\"\" Saving all the results \"\"\"\n",
    "    df = pd.DataFrame(SCORE, columns=[\"Image\", \"Accuracy\", \"F1\", \"Recall\", \"Precision\"])\n",
    "    df.to_csv(\"FlippedEval_BaseTest/FlippedMetrics_BaseTest.csv\")"
   ]
  }
 ],
 "metadata": {
  "kernelspec": {
   "display_name": "Python 3 (ipykernel)",
   "language": "python",
   "name": "python3"
  },
  "language_info": {
   "codemirror_mode": {
    "name": "ipython",
    "version": 3
   },
   "file_extension": ".py",
   "mimetype": "text/x-python",
   "name": "python",
   "nbconvert_exporter": "python",
   "pygments_lexer": "ipython3",
   "version": "3.8.0"
  }
 },
 "nbformat": 4,
 "nbformat_minor": 5
}
